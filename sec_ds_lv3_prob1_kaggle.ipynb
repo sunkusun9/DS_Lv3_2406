{
 "cells": [
  {
   "cell_type": "markdown",
   "id": "765c0422",
   "metadata": {},
   "source": [
    "# 문제 6\n",
    "\n",
    "[Kaggle 형] train_prob.csv로 문제 failure 예측하는 모델을 만들고, \n",
    "\n",
    "test_prob.csv에 대한 failure가 1일 확률 예측하여 다음과 같은 형식의 answer6.csv를 만들어라. \n",
    "\n",
    "측정 지표는 AUC(area under of ROC curve)이다. id 는 테스트 케이스의 id 이고, failure에는 failure가 1이 될 확률이다.\n",
    "\n",
    "id,failure\n",
    "\n",
    "16115, 0.1\n",
    "\n",
    "16116, 0.2\n",
    "\n",
    "\n",
    "**강사: 멀티캠퍼스 강선구(sunku0316.kang@multicampus.com, sun9sun9@gmail.com)**"
   ]
  },
  {
   "cell_type": "code",
   "execution_count": 1,
   "id": "42ff1fa9",
   "metadata": {},
   "outputs": [
    {
     "name": "stdout",
     "output_type": "stream",
     "text": [
      "3.7.4 (tags/v3.7.4:e09359112e, Jul  8 2019, 20:34:20) [MSC v.1916 64 bit (AMD64)]\n",
      "pandas 0.25.1\n",
      "numpy 1.18.5\n",
      "sklearn 0.21.3\n",
      "scipy 1.5.2\n",
      "mlxtend 0.15.0.0\n",
      "statsmodels 0.11.1\n",
      "xgboost 0.80\n"
     ]
    }
   ],
   "source": [
    "# 실행 환경 확인\n",
    "\n",
    "import pandas as pd\n",
    "import numpy as np\n",
    "import sklearn\n",
    "import scipy\n",
    "import statsmodels\n",
    "import mlxtend\n",
    "import sys\n",
    "import xgboost as xgb\n",
    "\n",
    "print(sys.version)\n",
    "for i in [pd, np, sklearn, scipy, mlxtend, statsmodels, xgb]:\n",
    "    print(i.__name__, i.__version__)"
   ]
  },
  {
   "cell_type": "code",
   "execution_count": 26,
   "id": "3e8f904a",
   "metadata": {},
   "outputs": [],
   "source": [
    "df_train = pd.read_csv('train_prob.csv', index_col='id')\n",
    "df_test = pd.read_csv('test_prob.csv', index_col='id')\n",
    "s_ans = pd.read_csv('test_prob_ans.csv', index_col='id')['failure']"
   ]
  },
  {
   "cell_type": "code",
   "execution_count": 27,
   "id": "234bc2cc",
   "metadata": {},
   "outputs": [],
   "source": [
    "df_train = df_train.assign(\n",
    "    na_1 = lambda x: x['measurement_3'].isna(), \n",
    "    na_2 = lambda x: x['measurement_5'].isna(), \n",
    ")\n",
    "df_test = df_test.assign(\n",
    "    na_1 = lambda x: x['measurement_3'].isna(), \n",
    "    na_2 = lambda x: x['measurement_5'].isna(), \n",
    ")"
   ]
  },
  {
   "cell_type": "code",
   "execution_count": 28,
   "id": "46e56c20",
   "metadata": {},
   "outputs": [
    {
     "data": {
      "text/plain": [
       "C    5765\n",
       "E    5343\n",
       "B    5250\n",
       "A    5100\n",
       "Name: product_code, dtype: int64"
      ]
     },
     "execution_count": 28,
     "metadata": {},
     "output_type": "execute_result"
    }
   ],
   "source": [
    "df_train['product_code'].value_counts()"
   ]
  },
  {
   "cell_type": "code",
   "execution_count": 29,
   "id": "d7a959de",
   "metadata": {},
   "outputs": [
    {
     "data": {
      "text/plain": [
       "D    5112\n",
       "Name: product_code, dtype: int64"
      ]
     },
     "execution_count": 29,
     "metadata": {},
     "output_type": "execute_result"
    }
   ],
   "source": [
    "df_test['product_code'].value_counts()"
   ]
  },
  {
   "cell_type": "code",
   "execution_count": 30,
   "id": "452d6975",
   "metadata": {},
   "outputs": [],
   "source": [
    "# 방법 2: product_code 별로 IterativeImputer를 통한 결측처리를 하고 바로 적용합니다.\n",
    "from sklearn.experimental import enable_iterative_imputer\n",
    "from sklearn.impute import IterativeImputer\n",
    "from sklearn.linear_model import LinearRegression\n",
    "\n",
    "X_imp = ['measurement_{}'.format(i) for i in range(3, 10)] + ['measurement_17']\n",
    "imp = IterativeImputer(\n",
    "    estimator = LinearRegression(fit_intercept=True),\n",
    "    random_state=123\n",
    ")\n",
    "# apply에서 transform에서 numpy array를 넘겨 주므로, \n",
    "# DataFrame을 만들어 반환시켜주면,\n",
    "# apply에서 DataFrame으로 재구성하여 넘겨줍니다.\n",
    "# 모델을 적용하여 결측이 처리된 데이터프레임을 만듭니다.\n",
    "df_train[X_imp] = df_train.groupby('product_code')[X_imp].apply(\n",
    "    lambda x: pd.DataFrame(imp.fit_transform(x), index=x.index, columns=x.columns)\n",
    ")\n",
    "\n",
    "df_test[X_imp] = df_test.groupby('product_code')[X_imp].apply(\n",
    "    lambda x: pd.DataFrame(imp.fit_transform(x), index=x.index, columns=x.columns)\n",
    ")"
   ]
  },
  {
   "cell_type": "code",
   "execution_count": 31,
   "id": "dee93ba2",
   "metadata": {},
   "outputs": [],
   "source": [
    "X_mean = ['measurement_{}'.format(i) for i in range(10, 17)]\n",
    "df_train[X_mean] = df_train.groupby('product_code')[X_mean].transform(lambda x: x.fillna(x.mean()))\n",
    "df_test[X_mean] = df_test.groupby('product_code')[X_mean].transform(lambda x: x.fillna(x.mean()))"
   ]
  },
  {
   "cell_type": "code",
   "execution_count": 32,
   "id": "f8bcdc58",
   "metadata": {},
   "outputs": [
    {
     "data": {
      "text/plain": [
       "(0, 0)"
      ]
     },
     "execution_count": 32,
     "metadata": {},
     "output_type": "execute_result"
    }
   ],
   "source": [
    "df_train['loading'] = df_train['loading'].fillna(df_train['loading'].mean())\n",
    "df_test['loading'] = df_test['loading'].fillna(df_train['loading'].mean())\n",
    "df_train['loading_log'] = np.log(df_train['loading'])\n",
    "df_test['loading_log'] = np.log(df_test['loading'])\n",
    "(\n",
    "    df_train.isna().sum().sum(), \n",
    "    df_test.isna().sum().sum()\n",
    ")"
   ]
  },
  {
   "cell_type": "code",
   "execution_count": 34,
   "id": "37595d72",
   "metadata": {},
   "outputs": [],
   "source": [
    "X_all = df_test.columns.tolist()"
   ]
  },
  {
   "cell_type": "code",
   "execution_count": null,
   "id": "4edd31b5",
   "metadata": {},
   "outputs": [],
   "source": [
    "# LR + sfs: ['loading', 'measurement_1', 'measurement_4', 'measurement_14', 'measurement_17', 'na_1']\n",
    "# LDA feature/predict 활용\n",
    "# LR + PCA n_components=7\n",
    "# RandomForest {'n_estimators': 15, 'max_depth': 7, 'min_samples_split': 512}"
   ]
  },
  {
   "cell_type": "markdown",
   "id": "397c3882",
   "metadata": {},
   "source": [
    "# Kaggle형 풀이 단계\n",
    "\n",
    "Step 1: 검증 방법을 정하고, 검증 루틴을 만듭니다.\n",
    "\n",
    "Step 2: Baseline 모델을 만듭니다\n",
    "\n",
    "Step 3: 모델 선택 루틴을 만듭니다.\n",
    "\n",
    "Step 4: 모델 개선 작업을 합니다."
   ]
  },
  {
   "cell_type": "code",
   "execution_count": 35,
   "id": "094f8bba",
   "metadata": {},
   "outputs": [
    {
     "name": "stdout",
     "output_type": "stream",
     "text": [
      "['A' 'B' 'E'] ['C']\n",
      "['A' 'B' 'C'] ['E']\n",
      "['A' 'C' 'E'] ['B']\n",
      "['B' 'C' 'E'] ['A']\n"
     ]
    }
   ],
   "source": [
    "from sklearn.model_selection import GroupKFold\n",
    "\n",
    "gcv = GroupKFold(4)\n",
    "for train_idx, valid_idx in gcv.split(df_train[X_all], df_train['failure'], groups=df_train['product_code']):\n",
    "    print(\n",
    "        df_train.iloc[train_idx]['product_code'].unique(),\n",
    "        df_train.iloc[valid_idx]['product_code'].unique()\n",
    "    )"
   ]
  },
  {
   "cell_type": "code",
   "execution_count": 40,
   "id": "c00777fe",
   "metadata": {},
   "outputs": [
    {
     "data": {
      "text/plain": [
       "{'fit_time': array([0.14860129, 0.15999341, 0.13390279, 0.14773655]),\n",
       " 'score_time': array([0.00699449, 0.0080564 , 0.00539088, 0.00752544]),\n",
       " 'test_score': array([0.58694638, 0.58228318, 0.58941701, 0.59469715]),\n",
       " 'train_score': array([0.58894095, 0.59039008, 0.5880977 , 0.58627781])}"
      ]
     },
     "execution_count": 40,
     "metadata": {},
     "output_type": "execute_result"
    }
   ],
   "source": [
    "from sklearn.model_selection import cross_validate\n",
    "from sklearn.linear_model import LogisticRegression\n",
    "\n",
    "cross_validate(\n",
    "    LogisticRegression(solver='lbfgs'), df_train[['loading', 'measurement_17']], df_train['failure'],\n",
    "    cv=gcv, groups = df_train['product_code'], scoring='roc_auc', return_train_score=True\n",
    ")\n"
   ]
  },
  {
   "cell_type": "code",
   "execution_count": null,
   "id": "ead6f213",
   "metadata": {},
   "outputs": [],
   "source": []
  }
 ],
 "metadata": {
  "kernelspec": {
   "display_name": "Python 3 (ipykernel)",
   "language": "python",
   "name": "python3"
  },
  "language_info": {
   "codemirror_mode": {
    "name": "ipython",
    "version": 3
   },
   "file_extension": ".py",
   "mimetype": "text/x-python",
   "name": "python",
   "nbconvert_exporter": "python",
   "pygments_lexer": "ipython3",
   "version": "3.7.4"
  }
 },
 "nbformat": 4,
 "nbformat_minor": 5
}
